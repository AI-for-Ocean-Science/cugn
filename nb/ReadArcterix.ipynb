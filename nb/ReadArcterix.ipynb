{
 "cells": [
  {
   "cell_type": "markdown",
   "id": "8b035ed5-6ba4-4168-b0a1-8c2386582c0f",
   "metadata": {},
   "source": [
    "# Read Arcterix"
   ]
  },
  {
   "cell_type": "code",
   "execution_count": 4,
   "id": "3ecb22d2-9444-44c6-8a3c-c6a24c9643fa",
   "metadata": {},
   "outputs": [],
   "source": [
    "# imports\n",
    "import os\n",
    "\n",
    "from scipy.io import loadmat"
   ]
  },
  {
   "cell_type": "markdown",
   "id": "8a3c3ad3-b032-4c37-b01a-b199bb6f2780",
   "metadata": {},
   "source": [
    "# Load"
   ]
  },
  {
   "cell_type": "code",
   "execution_count": 7,
   "id": "72de8a8f-8a3f-45e6-b53f-7ad4ffe4e944",
   "metadata": {},
   "outputs": [],
   "source": [
    "path = '/home/xavier/Projects/Oceanography/data/Arctrix'\n",
    "dfile = os.path.join(path, 'arctrix_ctd.mat')"
   ]
  },
  {
   "cell_type": "code",
   "execution_count": 8,
   "id": "ebebf7ae-5bef-402c-8eec-371cd6eb976e",
   "metadata": {},
   "outputs": [],
   "source": [
    "mat_d = loadmat(dfile)"
   ]
  },
  {
   "cell_type": "markdown",
   "id": "f2909182-a965-4843-be4d-e626d309d5ce",
   "metadata": {},
   "source": [
    "# Parse"
   ]
  },
  {
   "cell_type": "code",
   "execution_count": 14,
   "id": "bad4c43a-a090-49f5-b871-93cd0be67e3c",
   "metadata": {},
   "outputs": [
    {
     "data": {
      "text/plain": [
       "dtype([('y0', 'O'), ('y1', 'O'), ('x0', 'O'), ('x1', 'O'), ('time0', 'O'), ('time1', 'O'), ('depthmin', 'O'), ('missions', 'O'), ('depth', 'O'), ('missid', 'O'), ('time', 'O'), ('lon', 'O'), ('lat', 'O'), ('dist', 'O'), ('offset', 'O'), ('timeu', 'O'), ('lonu', 'O'), ('latu', 'O'), ('distu', 'O'), ('offsetu', 'O'), ('u', 'O'), ('v', 'O'), ('t', 'O'), ('s', 'O'), ('udop', 'O'), ('vdop', 'O'), ('udopalong', 'O'), ('udopacross', 'O'), ('fl', 'O'), ('abs', 'O'), ('ualong', 'O'), ('uacross', 'O')])"
      ]
     },
     "execution_count": 14,
     "metadata": {},
     "output_type": "execute_result"
    }
   ],
   "source": [
    "mat_d['ctd'].dtype"
   ]
  },
  {
   "cell_type": "code",
   "execution_count": 21,
   "id": "1bcbd014-4386-425d-a051-d42b04bdd365",
   "metadata": {},
   "outputs": [
    {
     "data": {
      "text/plain": [
       "array([[19.53429   ],\n",
       "       [19.53963   ],\n",
       "       [19.54956   ],\n",
       "       ...,\n",
       "       [17.98506918],\n",
       "       [17.96829788],\n",
       "       [17.94404785]])"
      ]
     },
     "execution_count": 21,
     "metadata": {},
     "output_type": "execute_result"
    }
   ],
   "source": [
    "mat_d['ctd']['latu'][0][0].shape\n",
    "mat_d['ctd']['latu'][0][0]"
   ]
  },
  {
   "cell_type": "code",
   "execution_count": null,
   "id": "1b5a4d94-4706-4da0-a527-02744ac390b1",
   "metadata": {},
   "outputs": [],
   "source": []
  }
 ],
 "metadata": {
  "kernelspec": {
   "display_name": "Python 3 (ipykernel)",
   "language": "python",
   "name": "python3"
  },
  "language_info": {
   "codemirror_mode": {
    "name": "ipython",
    "version": 3
   },
   "file_extension": ".py",
   "mimetype": "text/x-python",
   "name": "python",
   "nbconvert_exporter": "python",
   "pygments_lexer": "ipython3",
   "version": "3.11.7"
  }
 },
 "nbformat": 4,
 "nbformat_minor": 5
}
