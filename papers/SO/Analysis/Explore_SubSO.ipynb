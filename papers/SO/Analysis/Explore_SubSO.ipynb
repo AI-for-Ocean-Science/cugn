{
 "cells": [
  {
   "cell_type": "markdown",
   "id": "4656eef3-650d-414f-ac9c-e80a626eca78",
   "metadata": {},
   "source": [
    "# Sub-Saturated Explore"
   ]
  },
  {
   "cell_type": "code",
   "execution_count": 1,
   "id": "2805f1a3-97f8-4535-aac6-71a11a980737",
   "metadata": {},
   "outputs": [],
   "source": [
    "# imports\n",
    "import os\n",
    "import xarray\n",
    "\n",
    "import numpy as np\n",
    "from scipy import stats\n",
    "from scipy.interpolate import interp1d \n",
    "\n",
    "from matplotlib import pyplot as plt\n",
    "import matplotlib as mpl\n",
    "import matplotlib.gridspec as gridspec\n",
    "import matplotlib.dates as mdates\n",
    "from matplotlib.ticker import MultipleLocator \n",
    "\n",
    "mpl.rcParams['font.family'] = 'stixgeneral'\n",
    "\n",
    "\n",
    "import seaborn as sns\n",
    "\n",
    "import pandas\n",
    "\n",
    "from siosandbox.cugn import clusters\n",
    "from siosandbox import plot_utils\n",
    "from siosandbox import cat_utils\n",
    "\n",
    "from cugn import grid_utils\n",
    "from cugn import utils as cugn_utils\n",
    "from cugn import io as cugn_io\n",
    "from cugn import annualcycle\n"
   ]
  },
  {
   "cell_type": "markdown",
   "id": "ca59815d-52c2-4964-b785-8c3d4f883c39",
   "metadata": {},
   "source": [
    "# Load"
   ]
  },
  {
   "cell_type": "code",
   "execution_count": 7,
   "id": "afb789dd-a54c-478d-a845-8d2d752e8c22",
   "metadata": {},
   "outputs": [
    {
     "name": "stdout",
     "output_type": "stream",
     "text": [
      "Found 20 unique clusters\n"
     ]
    }
   ],
   "source": [
    "line = '56.0'\n",
    "#\n",
    "items = cugn_io.load_up(line, gextrem='low')\n",
    "grid_extrem = items[0]"
   ]
  },
  {
   "cell_type": "markdown",
   "id": "4d3e94c9-eeb8-46a0-bb13-66aa9d746aec",
   "metadata": {},
   "source": [
    "# Cluster me"
   ]
  },
  {
   "cell_type": "code",
   "execution_count": 8,
   "id": "5b928c25-e195-4cb6-9b35-e38967bc803d",
   "metadata": {},
   "outputs": [],
   "source": [
    "stats = clusters.cluster_stats(grid_extrem)"
   ]
  },
  {
   "cell_type": "code",
   "execution_count": 9,
   "id": "6b0e5fbc-944f-4256-8bb0-2ab9ee003cda",
   "metadata": {},
   "outputs": [
    {
     "data": {
      "text/html": [
       "<div>\n",
       "<style scoped>\n",
       "    .dataframe tbody tr th:only-of-type {\n",
       "        vertical-align: middle;\n",
       "    }\n",
       "\n",
       "    .dataframe tbody tr th {\n",
       "        vertical-align: top;\n",
       "    }\n",
       "\n",
       "    .dataframe thead th {\n",
       "        text-align: right;\n",
       "    }\n",
       "</style>\n",
       "<table border=\"1\" class=\"dataframe\">\n",
       "  <thead>\n",
       "    <tr style=\"text-align: right;\">\n",
       "      <th></th>\n",
       "      <th>z</th>\n",
       "      <th>lon</th>\n",
       "      <th>doxy</th>\n",
       "      <th>time</th>\n",
       "      <th>SA</th>\n",
       "      <th>CT</th>\n",
       "      <th>sigma0</th>\n",
       "      <th>SO</th>\n",
       "      <th>chla</th>\n",
       "      <th>max_doxy</th>\n",
       "      <th>max_SO</th>\n",
       "      <th>max_chla</th>\n",
       "      <th>N</th>\n",
       "      <th>cluster</th>\n",
       "    </tr>\n",
       "  </thead>\n",
       "  <tbody>\n",
       "    <tr>\n",
       "      <th>0</th>\n",
       "      <td>15.762712</td>\n",
       "      <td>-123.367698</td>\n",
       "      <td>229.799361</td>\n",
       "      <td>2020-01-10 08:30:31.881356032</td>\n",
       "      <td>33.567622</td>\n",
       "      <td>11.874382</td>\n",
       "      <td>25.385347</td>\n",
       "      <td>0.860542</td>\n",
       "      <td>0.941748</td>\n",
       "      <td>240.740995</td>\n",
       "      <td>0.899919</td>\n",
       "      <td>1.277400</td>\n",
       "      <td>59</td>\n",
       "      <td>0</td>\n",
       "    </tr>\n",
       "    <tr>\n",
       "      <th>1</th>\n",
       "      <td>15.535714</td>\n",
       "      <td>-123.377515</td>\n",
       "      <td>224.309751</td>\n",
       "      <td>2020-02-05 00:40:42.732142848</td>\n",
       "      <td>33.539455</td>\n",
       "      <td>11.002354</td>\n",
       "      <td>25.521780</td>\n",
       "      <td>0.824781</td>\n",
       "      <td>0.420906</td>\n",
       "      <td>242.859674</td>\n",
       "      <td>0.899898</td>\n",
       "      <td>0.637200</td>\n",
       "      <td>112</td>\n",
       "      <td>1</td>\n",
       "    </tr>\n",
       "    <tr>\n",
       "      <th>2</th>\n",
       "      <td>17.142857</td>\n",
       "      <td>-123.493140</td>\n",
       "      <td>228.419679</td>\n",
       "      <td>2020-09-12 22:16:30.806723072</td>\n",
       "      <td>33.437435</td>\n",
       "      <td>11.168917</td>\n",
       "      <td>25.412335</td>\n",
       "      <td>0.842113</td>\n",
       "      <td>1.295857</td>\n",
       "      <td>245.759085</td>\n",
       "      <td>0.897549</td>\n",
       "      <td>3.630000</td>\n",
       "      <td>119</td>\n",
       "      <td>2</td>\n",
       "    </tr>\n",
       "    <tr>\n",
       "      <th>3</th>\n",
       "      <td>18.205128</td>\n",
       "      <td>-123.422989</td>\n",
       "      <td>220.666866</td>\n",
       "      <td>2020-10-21 02:22:49.153845760</td>\n",
       "      <td>33.448918</td>\n",
       "      <td>11.454946</td>\n",
       "      <td>25.369887</td>\n",
       "      <td>0.818744</td>\n",
       "      <td>1.020928</td>\n",
       "      <td>242.815478</td>\n",
       "      <td>0.899511</td>\n",
       "      <td>2.188125</td>\n",
       "      <td>39</td>\n",
       "      <td>3</td>\n",
       "    </tr>\n",
       "    <tr>\n",
       "      <th>4</th>\n",
       "      <td>16.000000</td>\n",
       "      <td>-123.731228</td>\n",
       "      <td>236.162665</td>\n",
       "      <td>2020-11-15 04:37:48.200000256</td>\n",
       "      <td>33.515081</td>\n",
       "      <td>11.601037</td>\n",
       "      <td>25.395263</td>\n",
       "      <td>0.879023</td>\n",
       "      <td>0.856122</td>\n",
       "      <td>240.171609</td>\n",
       "      <td>0.892227</td>\n",
       "      <td>1.220400</td>\n",
       "      <td>5</td>\n",
       "      <td>4</td>\n",
       "    </tr>\n",
       "  </tbody>\n",
       "</table>\n",
       "</div>"
      ],
      "text/plain": [
       "           z         lon        doxy                          time         SA  \\\n",
       "0  15.762712 -123.367698  229.799361 2020-01-10 08:30:31.881356032  33.567622   \n",
       "1  15.535714 -123.377515  224.309751 2020-02-05 00:40:42.732142848  33.539455   \n",
       "2  17.142857 -123.493140  228.419679 2020-09-12 22:16:30.806723072  33.437435   \n",
       "3  18.205128 -123.422989  220.666866 2020-10-21 02:22:49.153845760  33.448918   \n",
       "4  16.000000 -123.731228  236.162665 2020-11-15 04:37:48.200000256  33.515081   \n",
       "\n",
       "          CT     sigma0        SO      chla    max_doxy    max_SO  max_chla  \\\n",
       "0  11.874382  25.385347  0.860542  0.941748  240.740995  0.899919  1.277400   \n",
       "1  11.002354  25.521780  0.824781  0.420906  242.859674  0.899898  0.637200   \n",
       "2  11.168917  25.412335  0.842113  1.295857  245.759085  0.897549  3.630000   \n",
       "3  11.454946  25.369887  0.818744  1.020928  242.815478  0.899511  2.188125   \n",
       "4  11.601037  25.395263  0.879023  0.856122  240.171609  0.892227  1.220400   \n",
       "\n",
       "     N  cluster  \n",
       "0   59        0  \n",
       "1  112        1  \n",
       "2  119        2  \n",
       "3   39        3  \n",
       "4    5        4  "
      ]
     },
     "execution_count": 9,
     "metadata": {},
     "output_type": "execute_result"
    }
   ],
   "source": [
    "stats[0:5]"
   ]
  },
  {
   "cell_type": "code",
   "execution_count": null,
   "id": "ceb02747-2b21-42b2-90c0-e75b8ab9c7a8",
   "metadata": {},
   "outputs": [],
   "source": [
    "#"
   ]
  }
 ],
 "metadata": {
  "kernelspec": {
   "display_name": "Python 3 (ipykernel)",
   "language": "python",
   "name": "python3"
  },
  "language_info": {
   "codemirror_mode": {
    "name": "ipython",
    "version": 3
   },
   "file_extension": ".py",
   "mimetype": "text/x-python",
   "name": "python",
   "nbconvert_exporter": "python",
   "pygments_lexer": "ipython3",
   "version": "3.11.6"
  }
 },
 "nbformat": 4,
 "nbformat_minor": 5
}
