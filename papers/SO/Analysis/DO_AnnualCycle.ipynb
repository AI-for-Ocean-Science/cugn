{
 "cells": [
  {
   "cell_type": "markdown",
   "id": "6ab10177-617b-4d8c-8f21-86c93e4f62cd",
   "metadata": {},
   "source": [
    "# DO Annual Cycle"
   ]
  },
  {
   "cell_type": "code",
   "execution_count": 1,
   "id": "fbfa9c37-2d0f-4914-b67e-f2946120868b",
   "metadata": {},
   "outputs": [],
   "source": [
    "# imports\n",
    "from importlib import reload \n",
    "\n",
    "import os\n",
    "import xarray\n",
    "\n",
    "import numpy as np\n",
    "from scipy import stats\n",
    "from scipy.interpolate import interp1d \n",
    "\n",
    "from matplotlib import pyplot as plt\n",
    "import matplotlib as mpl\n",
    "import matplotlib.gridspec as gridspec\n",
    "import matplotlib.dates as mdates\n",
    "from matplotlib.ticker import MultipleLocator \n",
    "\n",
    "mpl.rcParams['font.family'] = 'stixgeneral'\n",
    "\n",
    "\n",
    "import seaborn as sns\n",
    "\n",
    "import pandas\n",
    "\n",
    "from siosandbox.cugn import clusters\n",
    "from siosandbox import plot_utils\n",
    "from siosandbox import cat_utils\n",
    "\n",
    "from cugn import grid_utils\n",
    "from cugn import utils as cugn_utils\n",
    "from cugn import io as cugn_io\n",
    "from cugn import annualcycle"
   ]
  },
  {
   "cell_type": "markdown",
   "id": "7af623af-edaf-4d72-80ed-50e798ebb7bf",
   "metadata": {},
   "source": [
    "# Quick test that $T$ still works"
   ]
  },
  {
   "cell_type": "markdown",
   "id": "e4270f66-d9ba-4527-a5fe-10b51516a289",
   "metadata": {},
   "source": [
    "## Load grid"
   ]
  },
  {
   "cell_type": "code",
   "execution_count": 2,
   "id": "0f806ba6-d75d-4995-b0be-0696389dc018",
   "metadata": {},
   "outputs": [],
   "source": [
    "line = '90.0'"
   ]
  },
  {
   "cell_type": "code",
   "execution_count": 3,
   "id": "bbc7fe77-d252-4710-be4c-d5415f507f81",
   "metadata": {},
   "outputs": [
    {
     "name": "stdout",
     "output_type": "stream",
     "text": [
      "Found 30 unique clusters\n"
     ]
    }
   ],
   "source": [
    "items = cugn_io.load_up(line)#, skip_dist=True)\n",
    "grid_extrem = items[0]"
   ]
  },
  {
   "cell_type": "markdown",
   "id": "73859681-e220-4baa-8b10-524564ee7ac6",
   "metadata": {},
   "source": [
    "## Cycle me"
   ]
  },
  {
   "cell_type": "code",
   "execution_count": 4,
   "id": "2245c361-656f-49d7-8365-b79a233a5c21",
   "metadata": {},
   "outputs": [],
   "source": [
    "T_annual = annualcycle.calc_for_grid(grid_extrem, line, 't')"
   ]
  },
  {
   "cell_type": "code",
   "execution_count": 5,
   "id": "f31fb217-742a-4146-9339-b46e46f4d3af",
   "metadata": {},
   "outputs": [
    {
     "data": {
      "text/plain": [
       "array([15.08906877, 15.08782218, 15.04954141, ..., 13.27578622,\n",
       "       14.89015269, 15.02232184])"
      ]
     },
     "execution_count": 5,
     "metadata": {},
     "output_type": "execute_result"
    }
   ],
   "source": [
    "T_annual"
   ]
  },
  {
   "cell_type": "markdown",
   "id": "1034b5c4-d19e-434d-ae3f-4e5f62018bc1",
   "metadata": {},
   "source": [
    "# DO"
   ]
  },
  {
   "cell_type": "code",
   "execution_count": 6,
   "id": "8ef27d2a-b57b-444a-bd1f-308290de0595",
   "metadata": {},
   "outputs": [],
   "source": [
    "reload(annualcycle)\n",
    "DO_annual = annualcycle.calc_for_grid(grid_extrem, line, 'oxumolkg')"
   ]
  },
  {
   "cell_type": "code",
   "execution_count": 7,
   "id": "4cfd8f0a-f5a3-4bb3-8183-28607ea6f036",
   "metadata": {},
   "outputs": [
    {
     "data": {
      "text/plain": [
       "array([258.05610927, 258.25727989, 260.57432953, ..., 223.88964254,\n",
       "       259.37909358, 256.77166607])"
      ]
     },
     "execution_count": 7,
     "metadata": {},
     "output_type": "execute_result"
    }
   ],
   "source": [
    "DO_annual"
   ]
  },
  {
   "cell_type": "code",
   "execution_count": 10,
   "id": "02f46c5a-63b5-4fe6-afd5-a7f49fe47b21",
   "metadata": {},
   "outputs": [
    {
     "data": {
      "text/html": [
       "<div>\n",
       "<style scoped>\n",
       "    .dataframe tbody tr th:only-of-type {\n",
       "        vertical-align: middle;\n",
       "    }\n",
       "\n",
       "    .dataframe tbody tr th {\n",
       "        vertical-align: top;\n",
       "    }\n",
       "\n",
       "    .dataframe thead th {\n",
       "        text-align: right;\n",
       "    }\n",
       "</style>\n",
       "<table border=\"1\" class=\"dataframe\">\n",
       "  <thead>\n",
       "    <tr style=\"text-align: right;\">\n",
       "      <th></th>\n",
       "      <th>depth</th>\n",
       "      <th>profile</th>\n",
       "      <th>row</th>\n",
       "      <th>col</th>\n",
       "      <th>doxy</th>\n",
       "      <th>doxy_p</th>\n",
       "      <th>time</th>\n",
       "      <th>lon</th>\n",
       "      <th>lat</th>\n",
       "      <th>z</th>\n",
       "      <th>...</th>\n",
       "      <th>SO</th>\n",
       "      <th>N</th>\n",
       "      <th>chla</th>\n",
       "      <th>T</th>\n",
       "      <th>N_p</th>\n",
       "      <th>chla_p</th>\n",
       "      <th>year</th>\n",
       "      <th>doy</th>\n",
       "      <th>dist</th>\n",
       "      <th>cluster</th>\n",
       "    </tr>\n",
       "  </thead>\n",
       "  <tbody>\n",
       "    <tr>\n",
       "      <th>776</th>\n",
       "      <td>0</td>\n",
       "      <td>32958</td>\n",
       "      <td>24</td>\n",
       "      <td>19</td>\n",
       "      <td>277.438868</td>\n",
       "      <td>99.610136</td>\n",
       "      <td>2017-03-14 02:17:03</td>\n",
       "      <td>-118.227115</td>\n",
       "      <td>33.265208</td>\n",
       "      <td>10</td>\n",
       "      <td>...</td>\n",
       "      <td>1.116404</td>\n",
       "      <td>7.360446</td>\n",
       "      <td>0.285907</td>\n",
       "      <td>15.45625</td>\n",
       "      <td>80.701754</td>\n",
       "      <td>36.25731</td>\n",
       "      <td>2017</td>\n",
       "      <td>73</td>\n",
       "      <td>52.253342</td>\n",
       "      <td>0</td>\n",
       "    </tr>\n",
       "  </tbody>\n",
       "</table>\n",
       "<p>1 rows × 23 columns</p>\n",
       "</div>"
      ],
      "text/plain": [
       "     depth  profile  row  col        doxy     doxy_p                time  \\\n",
       "776      0    32958   24   19  277.438868  99.610136 2017-03-14 02:17:03   \n",
       "\n",
       "            lon        lat   z  ...        SO         N      chla         T  \\\n",
       "776 -118.227115  33.265208  10  ...  1.116404  7.360446  0.285907  15.45625   \n",
       "\n",
       "           N_p    chla_p  year  doy       dist  cluster  \n",
       "776  80.701754  36.25731  2017   73  52.253342        0  \n",
       "\n",
       "[1 rows x 23 columns]"
      ]
     },
     "execution_count": 10,
     "metadata": {},
     "output_type": "execute_result"
    }
   ],
   "source": [
    "grid_extrem[0:1]"
   ]
  },
  {
   "cell_type": "code",
   "execution_count": null,
   "id": "4bd7cfea-200f-4a6d-a9ef-ca1b9602e3ad",
   "metadata": {},
   "outputs": [],
   "source": []
  }
 ],
 "metadata": {
  "kernelspec": {
   "display_name": "Python 3 (ipykernel)",
   "language": "python",
   "name": "python3"
  },
  "language_info": {
   "codemirror_mode": {
    "name": "ipython",
    "version": 3
   },
   "file_extension": ".py",
   "mimetype": "text/x-python",
   "name": "python",
   "nbconvert_exporter": "python",
   "pygments_lexer": "ipython3",
   "version": "3.11.7"
  }
 },
 "nbformat": 4,
 "nbformat_minor": 5
}
